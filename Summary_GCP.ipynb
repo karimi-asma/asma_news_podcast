{
 "cells": [
  {
   "cell_type": "code",
   "execution_count": 1,
   "metadata": {},
   "outputs": [
    {
     "name": "stdout",
     "output_type": "stream",
     "text": [
      "GCP Project ID: asma-news-podcast-in-tech\n",
      "Credentials Path: /Users/asma/Documents/projects/asma-news-podcast-in-tech.json\n"
     ]
    }
   ],
   "source": [
    "from dotenv import load_dotenv\n",
    "import os\n",
    "\n",
    "# Load environment variables from the .env file\n",
    "load_dotenv()\n",
    "\n",
    "# Access variables\n",
    "GOOGLE_APPLICATION_CREDENTIALS = os.getenv(\"GOOGLE_APPLICATION_CREDENTIALS\")\n",
    "GCP_PROJECT_ID = os.getenv(\"GCP_PROJECT_ID\")\n",
    "GCP_REGION = os.getenv(\"GCP_REGION\")\n",
    "\n",
    "# Set Google Application Credentials\n",
    "os.environ[\"GOOGLE_APPLICATION_CREDENTIALS\"] = GOOGLE_APPLICATION_CREDENTIALS\n",
    "\n",
    "# Example usage\n",
    "print(f\"GCP Project ID: {GCP_PROJECT_ID}\")\n",
    "print(f\"Credentials Path: {GOOGLE_APPLICATION_CREDENTIALS}\")\n"
   ]
  },
  {
   "cell_type": "code",
   "execution_count": 5,
   "metadata": {},
   "outputs": [
    {
     "name": "stdout",
     "output_type": "stream",
     "text": [
      "Error: Resource publishers/google/models/text-bison@latest is not a valid resource ID.\n"
     ]
    }
   ],
   "source": [
    "from google.cloud import aiplatform\n",
    "from dotenv import load_dotenv\n",
    "import os\n",
    "\n",
    "# Load environment variables from .env file\n",
    "load_dotenv()\n",
    "\n",
    "# Fetch variables\n",
    "PROJECT_ID = os.getenv(\"GCP_PROJECT_ID\")\n",
    "REGION = os.getenv(\"GCP_REGION\")\n",
    "GOOGLE_APPLICATION_CREDENTIALS = os.getenv(\"GOOGLE_APPLICATION_CREDENTIALS\")\n",
    "\n",
    "# Set credentials\n",
    "os.environ[\"GOOGLE_APPLICATION_CREDENTIALS\"] = GOOGLE_APPLICATION_CREDENTIALS\n",
    "\n",
    "def summarize_text_with_vertexai(input_text):\n",
    "    \"\"\"\n",
    "    Summarize text using Vertex AI's text-bison model.\n",
    "\n",
    "    Args:\n",
    "        input_text (str): Text to summarize.\n",
    "\n",
    "    Returns:\n",
    "        str: The summarized text.\n",
    "    \"\"\"\n",
    "    # Initialize Vertex AI\n",
    "    aiplatform.init(project=PROJECT_ID, location=REGION)\n",
    "\n",
    "    # Use the correct foundation model endpoint\n",
    "    model_name = \"text-bison@latest\"  # Ensure this matches the Vertex AI catalog\n",
    "    publisher = \"google\"\n",
    "\n",
    "    # Make prediction request\n",
    "    model = aiplatform.Model(model_name=f\"publishers/{publisher}/models/{model_name}\")\n",
    "\n",
    "    # Define the summarization prompt\n",
    "    prompt = f\"Summarize the following text:\\n\\n{input_text}\"\n",
    "    response = model.predict(prompt)\n",
    "\n",
    "    return response.text\n",
    "\n",
    "# Example Usage\n",
    "if __name__ == \"__main__\":\n",
    "    text_to_summarize = \"\"\"\n",
    "    Interest in Donald Trump surged higher than interest in Kamala Harris. People ate up content on Dubai chocolate bars.\n",
    "    \"\"\"\n",
    "    try:\n",
    "        summary = summarize_text_with_vertexai(text_to_summarize)\n",
    "        print(\"Summary:\", summary)\n",
    "    except Exception as e:\n",
    "        print(\"Error:\", e)\n"
   ]
  },
  {
   "cell_type": "code",
   "execution_count": null,
   "metadata": {},
   "outputs": [
    {
     "name": "stdout",
     "output_type": "stream",
     "text": [
      "Error: 501 Received http2 header with status: 404\n"
     ]
    }
   ],
   "source": [
    "from google.cloud import aiplatform\n",
    "from dotenv import load_dotenv\n",
    "import os\n",
    "\n",
    "# Load environment variables\n",
    "load_dotenv()\n",
    "\n",
    "# Set environment variables\n",
    "PROJECT_ID = os.getenv(\"GCP_PROJECT_ID\")\n",
    "REGION = os.getenv(\"GCP_REGION\")\n",
    "GOOGLE_APPLICATION_CREDENTIALS = os.getenv(\"GOOGLE_APPLICATION_CREDENTIALS\")\n",
    "\n",
    "# Set credentials\n",
    "os.environ[\"GOOGLE_APPLICATION_CREDENTIALS\"] = GOOGLE_APPLICATION_CREDENTIALS\n",
    "\n",
    "def summarize_text_with_gemini(input_text):\n",
    "    \"\"\"\n",
    "    Summarize text using Google's Gemini model via Vertex AI.\n",
    "\n",
    "    Args:\n",
    "        input_text (str): The input text to summarize.\n",
    "\n",
    "    Returns:\n",
    "        str: The summarized text.\n",
    "    \"\"\"\n",
    "    # Initialize Vertex AI\n",
    "    aiplatform.init(project=PROJECT_ID, location=REGION)\n",
    "\n",
    "    # Define the foundation model name for Gemini\n",
    "    model_name = \"gemini-1.0-pro-latest\"\n",
    "\n",
    "    # Use Vertex AI's foundation model API\n",
    "    model = aiplatform.gapic.PredictionServiceClient()\n",
    "    endpoint = f\"projects/{PROJECT_ID}/locations/{REGION}/publishers/google/models/{model_name}\"\n",
    "\n",
    "    # Format input for summarization\n",
    "    instances = [{\"content\": f\"Summarize the following text:\\n\\n{input_text}\"}]\n",
    "    parameters = {\"temperature\": 0.2, \"maxOutputTokens\": 300}\n",
    "\n",
    "    # Make the API call\n",
    "    response = model.predict(endpoint=endpoint, instances=instances, parameters=parameters)\n",
    "    summary = response.predictions[0][\"content\"]\n",
    "    return summary\n",
    "\n",
    "# Example usage\n",
    "if __name__ == \"__main__\":\n",
    "    input_text = \"\"\"\n",
    "    Interest in Donald Trump surged higher than interest in Kamala Harris. People ate up content on Dubai chocolate bars.\n",
    "    \"\"\"\n",
    "    try:\n",
    "        summary = summarize_text_with_gemini(input_text)\n",
    "        print(\"Summary:\", summary)\n",
    "    except Exception as e:\n",
    "        print(\"Error:\", e)\n"
   ]
  },
  {
   "cell_type": "code",
   "execution_count": null,
   "metadata": {},
   "outputs": [],
   "source": []
  }
 ],
 "metadata": {
  "kernelspec": {
   "display_name": "myenv",
   "language": "python",
   "name": "python3"
  },
  "language_info": {
   "codemirror_mode": {
    "name": "ipython",
    "version": 3
   },
   "file_extension": ".py",
   "mimetype": "text/x-python",
   "name": "python",
   "nbconvert_exporter": "python",
   "pygments_lexer": "ipython3",
   "version": "3.10.14"
  }
 },
 "nbformat": 4,
 "nbformat_minor": 2
}
